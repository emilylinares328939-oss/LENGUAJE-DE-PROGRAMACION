{
  "cells": [
    {
      "cell_type": "markdown",
      "source": [
        "**Descripcion del proyecto**\n",
        "\n",
        "\n",
        "La empresa está considerando un proyecto con una inversión inicial de 10.000 y espera recibir flujos de caja de $3,000 en cada uno de los próximos tres años. La tasa de descuento es del 5%."
      ],
      "metadata": {
        "id": "cmdqmQw85MrQ"
      }
    },
    {
      "cell_type": "markdown",
      "source": [
        "**Actividad de lenguajes de programación**  \n",
        "\n",
        "Emily Linares Y Paul Linares\n",
        "\n",
        "\n",
        "\n",
        "\n",
        "# Valor presente neto (VPN)\n",
        "El valor presente neto o  VPN es una herramienta que permite determinar el valor actual de los flujos de caja futuros estimados en un proyecto, descontando una tasa que representa costos financieros, impuestos, entre otros conceptos, permitiendo traer al tiempo presente el valor neto de cada flujo proyectado para poder evaluar su rentabilidad al compararse con la inversión inicial.\n",
        "\n",
        "## Fórmula del valor presente Neto (VPN)\n",
        "\n",
        "La fórmula del VPN se expresa de la siguiente manera:\n",
        "\n",
        "\\[\n",
        "  $$\n",
        "  VPN = \\sum_{t=0}^{N} \\frac{c_t}{(1+r)^t} - c_0\n",
        "  $$\n",
        "  \\]\n",
        "\n",
        "  Donde:\n",
        "  - \\(c_t\\) es el flujo de caja en el tiempo \\(t\\).\n",
        "  - \\(r\\) es la tasa de descuento.\n",
        "  - \\(n\\) es el número de periodos.\n",
        "  - \\(c_0\\) es la inversión inicial.\n",
        "\n",
        "  ## Interpretación\n",
        "  - Si \\(VPN > 0\\), La inversión es rentable.\n",
        "  - Si \\(VPN < 0\\), La inversión no es rentable\n",
        "  - Si \\(VPN = 0\\), La inversión no genera ni perdidas ni ganancias\n",
        "\n",
        "  ## Enlace útil\n",
        "  Para obtener más información sobre el valor presente neto, puedes consultar el siguiente [enlace](https://es.wikipedia.org/wiki/Valor_actual_neto)."
      ],
      "metadata": {
        "id": "3qo6H-alzEvL"
      }
    },
    {
      "cell_type": "markdown",
      "source": [
        "**Declaracion de variables**"
      ],
      "metadata": {
        "id": "Qw6NZaQO5axl"
      }
    },
    {
      "cell_type": "code",
      "source": [
        "Inversion_inicial = 10000\n",
        "flujo_año_1=3000\n",
        "flujo_año_2=3000\n",
        "flujo_año_3=3000\n",
        "\n",
        "tasa_descuento=0.05"
      ],
      "metadata": {
        "id": "cpwNMSXb3gXa"
      },
      "execution_count": 1,
      "outputs": []
    },
    {
      "cell_type": "markdown",
      "source": [
        "**Calculo del VPN**"
      ],
      "metadata": {
        "id": "jfvwnl0P5i3k"
      }
    },
    {
      "cell_type": "code",
      "source": [
        "vpn=(flujo_año_1/ (1+tasa_descuento)**1)+\\\n",
        " (flujo_año_2/(1+tasa_descuento)**2)+\\\n",
        " (flujo_año_3/(1+tasa_descuento)**3)-Inversion_inicial\n",
        "print(\"El valor presente neto (VPN) es:\", vpn)"
      ],
      "metadata": {
        "id": "qChJ6raT4KRy",
        "colab": {
          "base_uri": "https://localhost:8080/"
        },
        "outputId": "206f058e-8973-48c9-c693-c5e74838cd94"
      },
      "execution_count": 2,
      "outputs": [
        {
          "output_type": "stream",
          "name": "stdout",
          "text": [
            "El valor presente neto (VPN) es: -1830.2559118885656\n"
          ]
        }
      ]
    },
    {
      "cell_type": "code",
      "source": [
        "if vpn > 0:\n",
        "   print(\"El proyecto es viable,ya que el vpn es positivo. \")\n",
        "else:\n",
        "    print(\"El proyecto no es viable,ya que el vpn es negativo.\")"
      ],
      "metadata": {
        "colab": {
          "base_uri": "https://localhost:8080/"
        },
        "id": "4aq5IdOu8M_u",
        "outputId": "adbb4328-730b-4bd8-b891-f333356933c0"
      },
      "execution_count": 3,
      "outputs": [
        {
          "output_type": "stream",
          "name": "stdout",
          "text": [
            "El proyecto no es viable,ya que el vpn es negativo.\n"
          ]
        }
      ]
    },
    {
      "cell_type": "markdown",
      "source": [
        "El proyecto no es viable,ya que el vpn es negativo."
      ],
      "metadata": {
        "id": "R-Un8j7x5y7e"
      }
    },
    {
      "cell_type": "code",
      "source": [],
      "metadata": {
        "id": "qqWjuFsT5BpJ"
      },
      "execution_count": null,
      "outputs": []
    },
    {
      "cell_type": "code",
      "source": [],
      "metadata": {
        "id": "ikQTLc955r_P"
      },
      "execution_count": null,
      "outputs": []
    }
  ],
  "metadata": {
    "colab": {
      "provenance": []
    },
    "kernelspec": {
      "display_name": "Python 3",
      "name": "python3"
    }
  },
  "nbformat": 4,
  "nbformat_minor": 0
}
